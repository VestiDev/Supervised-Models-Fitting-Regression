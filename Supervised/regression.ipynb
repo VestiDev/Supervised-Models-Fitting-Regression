{
 "cells": [
  {
   "cell_type": "markdown",
   "metadata": {},
   "source": [
    "# Segment 2\n",
    "\n",
    "## Regression but Not Backwards "
   ]
  },
  {
   "cell_type": "code",
   "execution_count": 1,
   "metadata": {},
   "outputs": [],
   "source": [
    "# loading libraries\n",
    "import warnings\n",
    "warnings.simplefilter(\"ignore\")\n",
    "\n",
    "import numpy as np\n",
    "import pandas as pd\n",
    "import matplotlib.pyplot as plt\n",
    "%matplotlib inline\n",
    "\n",
    "from sklearn.metrics import mean_squared_error\n",
    "from sklearn.model_selection import train_test_split, cross_val_score\n",
    "from ggplot import * #needed?\n",
    "from sklearn.preprocessing import LabelBinarizer"
   ]
  },
  {
   "cell_type": "code",
   "execution_count": 2,
   "metadata": {},
   "outputs": [],
   "source": [
    "# define column names\n",
    "names = ['sepal_length', 'sepal_width', 'petal_length', 'petal_width', 'species']\n",
    "\n",
    "# loading training data\n",
    "iris = pd.read_csv('iris.data', header=None, names=names)"
   ]
  },
  {
   "cell_type": "code",
   "execution_count": 3,
   "metadata": {},
   "outputs": [],
   "source": [
    "enc = LabelBinarizer().fit_transform(iris['species']) # one hot encode categorical species feature\n",
    "X_reg = np.concatenate([iris[['sepal_length', \"sepal_width\", \"petal_width\"]],enc[:,:2]], axis=1) # end index is exclusive\n",
    "y_reg = np.array(iris['petal_length']) # column name is another way of indexing df\n",
    "\n",
    "# split into train and test\n",
    "X_train_reg, X_test_reg, y_train_reg, y_test_reg = train_test_split(X_reg, y_reg, test_size=0.33, random_state=42)"
   ]
  },
  {
   "cell_type": "markdown",
   "metadata": {},
   "source": [
    "### Linear Regression"
   ]
  },
  {
   "cell_type": "code",
   "execution_count": 4,
   "metadata": {},
   "outputs": [],
   "source": [
    "from sklearn import linear_model"
   ]
  },
  {
   "cell_type": "code",
   "execution_count": 5,
   "metadata": {},
   "outputs": [],
   "source": [
    "import statsmodels.api as sm\n",
    "\n",
    "from IPython.core.display import HTML\n",
    "\n",
    "def short_summary(est):\n",
    "    return HTML(est.summary().tables[1].as_html())"
   ]
  },
  {
   "cell_type": "markdown",
   "metadata": {},
   "source": [
    "#### Using Sklearn"
   ]
  },
  {
   "cell_type": "markdown",
   "metadata": {},
   "source": [
    "Train Model"
   ]
  },
  {
   "cell_type": "code",
   "execution_count": 6,
   "metadata": {},
   "outputs": [
    {
     "data": {
      "text/plain": [
       "LinearRegression(copy_X=True, fit_intercept=True, n_jobs=None, normalize=False)"
      ]
     },
     "execution_count": 6,
     "metadata": {},
     "output_type": "execute_result"
    }
   ],
   "source": [
    "# Create linear regression object\n",
    "regr = linear_model.LinearRegression()\n",
    "\n",
    "# Train the model using the training sets\n",
    "regr.fit(X_train_reg, y_train_reg)"
   ]
  },
  {
   "cell_type": "code",
   "execution_count": 7,
   "metadata": {},
   "outputs": [
    {
     "name": "stdout",
     "output_type": "stream",
     "text": [
      "Sklearn Coefficients: \n",
      " [ 0.61545727 -0.12598231  0.63387466 -1.92974128 -0.47748   ]\n",
      "Sklearn Intercept: \n",
      " 0.6100972575054717\n"
     ]
    }
   ],
   "source": [
    "# The coefficients\n",
    "print('Sklearn Coefficients: \\n', regr.coef_)\n",
    "print('Sklearn Intercept: \\n', regr.intercept_)"
   ]
  },
  {
   "cell_type": "markdown",
   "metadata": {},
   "source": [
    "Test Model"
   ]
  },
  {
   "cell_type": "code",
   "execution_count": 8,
   "metadata": {},
   "outputs": [
    {
     "name": "stdout",
     "output_type": "stream",
     "text": [
      "Sklearn MSE:  0.0733764940898916\n"
     ]
    }
   ],
   "source": [
    "# Make predictions using the testing set\n",
    "y_pred = regr.predict(X_test_reg)\n",
    "print(\"Sklearn MSE: \", mean_squared_error(y_test_reg, y_pred))"
   ]
  },
  {
   "cell_type": "markdown",
   "metadata": {},
   "source": [
    "#### Using Statsmodels"
   ]
  },
  {
   "cell_type": "markdown",
   "metadata": {},
   "source": [
    "Train Model"
   ]
  },
  {
   "cell_type": "code",
   "execution_count": 9,
   "metadata": {},
   "outputs": [],
   "source": [
    "X_train_regSM = sm.add_constant(X_train_reg)\n",
    "\n",
    "# Fit and summarize OLS model\n",
    "mod = sm.OLS(y_train_reg, X_train_regSM)\n",
    "res = mod.fit()"
   ]
  },
  {
   "cell_type": "code",
   "execution_count": 10,
   "metadata": {},
   "outputs": [
    {
     "name": "stdout",
     "output_type": "stream",
     "text": [
      "Statmodels Coefficients:\n"
     ]
    },
    {
     "data": {
      "text/html": [
       "<table class=\"simpletable\">\n",
       "<tr>\n",
       "    <td></td>       <th>coef</th>     <th>std err</th>      <th>t</th>      <th>P>|t|</th>  <th>[0.025</th>    <th>0.975]</th>  \n",
       "</tr>\n",
       "<tr>\n",
       "  <th>const</th> <td>    0.6101</td> <td>    0.364</td> <td>    1.677</td> <td> 0.097</td> <td>   -0.112</td> <td>    1.332</td>\n",
       "</tr>\n",
       "<tr>\n",
       "  <th>x1</th>    <td>    0.6155</td> <td>    0.058</td> <td>   10.620</td> <td> 0.000</td> <td>    0.500</td> <td>    0.731</td>\n",
       "</tr>\n",
       "<tr>\n",
       "  <th>x2</th>    <td>   -0.1260</td> <td>    0.106</td> <td>   -1.187</td> <td> 0.238</td> <td>   -0.337</td> <td>    0.085</td>\n",
       "</tr>\n",
       "<tr>\n",
       "  <th>x3</th>    <td>    0.6339</td> <td>    0.146</td> <td>    4.347</td> <td> 0.000</td> <td>    0.344</td> <td>    0.923</td>\n",
       "</tr>\n",
       "<tr>\n",
       "  <th>x4</th>    <td>   -1.9297</td> <td>    0.303</td> <td>   -6.376</td> <td> 0.000</td> <td>   -2.531</td> <td>   -1.329</td>\n",
       "</tr>\n",
       "<tr>\n",
       "  <th>x5</th>    <td>   -0.4775</td> <td>    0.115</td> <td>   -4.168</td> <td> 0.000</td> <td>   -0.705</td> <td>   -0.250</td>\n",
       "</tr>\n",
       "</table>"
      ],
      "text/plain": [
       "<IPython.core.display.HTML object>"
      ]
     },
     "execution_count": 10,
     "metadata": {},
     "output_type": "execute_result"
    }
   ],
   "source": [
    "print(\"Statmodels Coefficients:\")\n",
    "short_summary(res)"
   ]
  },
  {
   "cell_type": "markdown",
   "metadata": {},
   "source": [
    "Test Model"
   ]
  },
  {
   "cell_type": "code",
   "execution_count": 11,
   "metadata": {},
   "outputs": [
    {
     "name": "stdout",
     "output_type": "stream",
     "text": [
      "Statsmodels MSE:  0.07337649408989215\n"
     ]
    }
   ],
   "source": [
    "X_test_regSM = sm.add_constant(X_test_reg)\n",
    "y_pred = res.predict(X_test_regSM) \n",
    "print(\"Statsmodels MSE: \", mean_squared_error(y_test_reg, y_pred))"
   ]
  },
  {
   "cell_type": "code",
   "execution_count": 12,
   "metadata": {},
   "outputs": [],
   "source": [
    "#add plots? normality etc, fitted line 3D"
   ]
  },
  {
   "cell_type": "markdown",
   "metadata": {},
   "source": [
    "### Multivariate Regression"
   ]
  },
  {
   "cell_type": "code",
   "execution_count": 13,
   "metadata": {},
   "outputs": [
    {
     "name": "stdout",
     "output_type": "stream",
     "text": [
      "Regression X_train:\n",
      "[[7.6 0.  0. ]\n",
      " [5.6 0.  1. ]\n",
      " [5.1 1.  0. ]\n",
      " [7.7 0.  0. ]]\n",
      "\n",
      "Regression y_train:\n",
      "[[6.6 2.1]\n",
      " [4.5 1.5]\n",
      " [1.4 0.2]\n",
      " [6.7 2. ]]\n"
     ]
    }
   ],
   "source": [
    "X_MVreg = np.concatenate([iris[['sepal_length']], enc[:,:2]], axis=1) # , \"sepal_width\" missing\n",
    "y_MVreg = np.array(iris[['petal_length', 'petal_width']]) # 2 response vars\n",
    "\n",
    "# split into train and test\n",
    "X_train_MVreg, X_test_MVreg, y_train_MVreg, y_test_MVreg = train_test_split(X_MVreg, y_MVreg, test_size=0.33, random_state=42)\n",
    "\n",
    "print(\"Regression X_train:\") \n",
    "print(X_train_MVreg[1:5,])\n",
    "print(\"\\nRegression y_train:\") \n",
    "print(y_train_MVreg[1:5])"
   ]
  },
  {
   "cell_type": "markdown",
   "metadata": {},
   "source": [
    "#### Sklearn"
   ]
  },
  {
   "cell_type": "markdown",
   "metadata": {},
   "source": [
    "Train Model "
   ]
  },
  {
   "cell_type": "code",
   "execution_count": 14,
   "metadata": {},
   "outputs": [
    {
     "data": {
      "text/plain": [
       "LinearRegression(copy_X=True, fit_intercept=True, n_jobs=None, normalize=False)"
      ]
     },
     "execution_count": 14,
     "metadata": {},
     "output_type": "execute_result"
    }
   ],
   "source": [
    "# Create linear regression object\n",
    "regr_MV = linear_model.LinearRegression()\n",
    "\n",
    "# Train the model using the training sets\n",
    "regr_MV.fit(X_train_MVreg, y_train_MVreg)"
   ]
  },
  {
   "cell_type": "code",
   "execution_count": 15,
   "metadata": {},
   "outputs": [
    {
     "name": "stdout",
     "output_type": "stream",
     "text": [
      "Sklearn Coefficients: \n",
      " [[ 0.65220929 -3.04039014 -0.86658461]\n",
      " [ 0.12109241 -1.5742572  -0.61824543]] \n",
      "\n",
      "Sklearn Intercepts: \n",
      " [1.27022853 1.21825327]\n"
     ]
    }
   ],
   "source": [
    "# The coefficients\n",
    "print('Sklearn Coefficients: \\n', regr_MV.coef_, \"\\n\")\n",
    "print('Sklearn Intercepts: \\n', regr_MV.intercept_)"
   ]
  },
  {
   "cell_type": "markdown",
   "metadata": {},
   "source": [
    "Same as fitting linear model 2 seperate times for each y variable."
   ]
  },
  {
   "cell_type": "code",
   "execution_count": 16,
   "metadata": {},
   "outputs": [
    {
     "name": "stdout",
     "output_type": "stream",
     "text": [
      "Sklearn Coefficients: \n",
      " [ 0.65220929 -3.04039014 -0.86658461]\n",
      "Sklearn Intercept: \n",
      " 1.270228526905886\n"
     ]
    }
   ],
   "source": [
    "# petal_length\n",
    "regr_MV1 = linear_model.LinearRegression()\n",
    "\n",
    "# Train the model using the training sets\n",
    "regr_MV1.fit(X_train_MVreg, y_train_MVreg[:, 0])\n",
    "\n",
    "print('Sklearn Coefficients: \\n', regr_MV1.coef_)\n",
    "print('Sklearn Intercept: \\n', regr_MV1.intercept_)"
   ]
  },
  {
   "cell_type": "code",
   "execution_count": 17,
   "metadata": {},
   "outputs": [
    {
     "name": "stdout",
     "output_type": "stream",
     "text": [
      "Sklearn Coefficients: \n",
      " [ 0.12109241 -1.5742572  -0.61824543]\n",
      "Sklearn Intercept: \n",
      " 1.2182532653067053\n"
     ]
    }
   ],
   "source": [
    "# petal_width\n",
    "regr_MV2 = linear_model.LinearRegression()\n",
    "\n",
    "# Train the model using the training sets\n",
    "regr_MV2.fit(X_train_MVreg, y_train_MVreg[:, 1])\n",
    "\n",
    "print('Sklearn Coefficients: \\n', regr_MV2.coef_)\n",
    "print('Sklearn Intercept: \\n', regr_MV2.intercept_)"
   ]
  },
  {
   "cell_type": "markdown",
   "metadata": {},
   "source": [
    "Test Model"
   ]
  },
  {
   "cell_type": "code",
   "execution_count": 18,
   "metadata": {},
   "outputs": [
    {
     "name": "stdout",
     "output_type": "stream",
     "text": [
      "Sklearn MSE:  0.05320301125486809\n"
     ]
    }
   ],
   "source": [
    "# Make predictions using the testing set\n",
    "y_pred_MV = regr_MV.predict(X_test_MVreg)\n",
    "print(\"Sklearn MSE: \", mean_squared_error(y_test_MVreg, y_pred_MV))"
   ]
  },
  {
   "cell_type": "markdown",
   "metadata": {},
   "source": [
    "#### Statsmodels"
   ]
  },
  {
   "cell_type": "markdown",
   "metadata": {},
   "source": [
    "Using Statsmodels to fit 2 seperate models. Does not allow for multivariate regression. "
   ]
  },
  {
   "cell_type": "code",
   "execution_count": 19,
   "metadata": {},
   "outputs": [],
   "source": [
    "X_train_MVreg_SM = sm.add_constant(X_train_MVreg)\n",
    "# Fit and summarize OLS model\n",
    "mod_MV1 = sm.OLS(y_train_MVreg[:,0], X_train_MVreg_SM).fit()"
   ]
  },
  {
   "cell_type": "code",
   "execution_count": 20,
   "metadata": {},
   "outputs": [
    {
     "name": "stdout",
     "output_type": "stream",
     "text": [
      "Statmodels Coefficients:\n"
     ]
    },
    {
     "data": {
      "text/html": [
       "<table class=\"simpletable\">\n",
       "<tr>\n",
       "    <td></td>       <th>coef</th>     <th>std err</th>      <th>t</th>      <th>P>|t|</th>  <th>[0.025</th>    <th>0.975]</th>  \n",
       "</tr>\n",
       "<tr>\n",
       "  <th>const</th> <td>    1.2702</td> <td>    0.356</td> <td>    3.572</td> <td> 0.001</td> <td>    0.564</td> <td>    1.976</td>\n",
       "</tr>\n",
       "<tr>\n",
       "  <th>x1</th>    <td>    0.6522</td> <td>    0.054</td> <td>   12.135</td> <td> 0.000</td> <td>    0.546</td> <td>    0.759</td>\n",
       "</tr>\n",
       "<tr>\n",
       "  <th>x2</th>    <td>   -3.0404</td> <td>    0.111</td> <td>  -27.420</td> <td> 0.000</td> <td>   -3.260</td> <td>   -2.820</td>\n",
       "</tr>\n",
       "<tr>\n",
       "  <th>x3</th>    <td>   -0.8666</td> <td>    0.078</td> <td>  -11.070</td> <td> 0.000</td> <td>   -1.022</td> <td>   -0.711</td>\n",
       "</tr>\n",
       "</table>"
      ],
      "text/plain": [
       "<IPython.core.display.HTML object>"
      ]
     },
     "execution_count": 20,
     "metadata": {},
     "output_type": "execute_result"
    }
   ],
   "source": [
    "print(\"Statmodels Coefficients:\")\n",
    "short_summary(mod_MV1)"
   ]
  },
  {
   "cell_type": "code",
   "execution_count": 21,
   "metadata": {},
   "outputs": [
    {
     "name": "stdout",
     "output_type": "stream",
     "text": [
      "Statmodels Coefficients:\n"
     ]
    },
    {
     "data": {
      "text/html": [
       "<table class=\"simpletable\">\n",
       "<tr>\n",
       "    <td></td>       <th>coef</th>     <th>std err</th>      <th>t</th>      <th>P>|t|</th>  <th>[0.025</th>    <th>0.975]</th>  \n",
       "</tr>\n",
       "<tr>\n",
       "  <th>const</th> <td>    1.2183</td> <td>    0.256</td> <td>    4.766</td> <td> 0.000</td> <td>    0.711</td> <td>    1.726</td>\n",
       "</tr>\n",
       "<tr>\n",
       "  <th>x1</th>    <td>    0.1211</td> <td>    0.039</td> <td>    3.134</td> <td> 0.002</td> <td>    0.044</td> <td>    0.198</td>\n",
       "</tr>\n",
       "<tr>\n",
       "  <th>x2</th>    <td>   -1.5743</td> <td>    0.080</td> <td>  -19.750</td> <td> 0.000</td> <td>   -1.732</td> <td>   -1.416</td>\n",
       "</tr>\n",
       "<tr>\n",
       "  <th>x3</th>    <td>   -0.6182</td> <td>    0.056</td> <td>  -10.986</td> <td> 0.000</td> <td>   -0.730</td> <td>   -0.507</td>\n",
       "</tr>\n",
       "</table>"
      ],
      "text/plain": [
       "<IPython.core.display.HTML object>"
      ]
     },
     "execution_count": 21,
     "metadata": {},
     "output_type": "execute_result"
    }
   ],
   "source": [
    "mod_MV2 = sm.OLS(y_train_MVreg[:,1], X_train_MVreg_SM).fit()\n",
    "print(\"Statmodels Coefficients:\")\n",
    "short_summary(mod_MV2)"
   ]
  },
  {
   "cell_type": "markdown",
   "metadata": {},
   "source": [
    "#### R for proper Multivariate Regression "
   ]
  },
  {
   "cell_type": "markdown",
   "metadata": {},
   "source": [
    "Using R within python to provide proper context on statistical tests in multivariate regression since sklearn does not provide hypothesis test results for multivariate regression and statsmodel does not have multivariate regression functionality at all.     \n",
    "   \n",
    "The _pyper_ library enables this and can be installed using `pip install pyper`. to install"
   ]
  },
  {
   "cell_type": "code",
   "execution_count": 22,
   "metadata": {
    "scrolled": true
   },
   "outputs": [],
   "source": [
    "import pyper as pr"
   ]
  },
  {
   "cell_type": "code",
   "execution_count": 23,
   "metadata": {},
   "outputs": [],
   "source": [
    "# CREATE A R INSTANCE WITH PYPER\n",
    "r=pr.R(RCMD=\"C:/Program Files/R/R-4.0.0/bin/R\", use_pandas = True)"
   ]
  },
  {
   "cell_type": "code",
   "execution_count": 24,
   "metadata": {},
   "outputs": [],
   "source": [
    "#convert arrays to dataframes\n",
    "X_train_MVreg_df=pd.DataFrame(X_train_MVreg, columns=['sepal_length', 'Iris-virginica', 'Iris-versicolor']) \n",
    "X_test_MVreg_df=pd.DataFrame(X_test_MVreg, columns=['sepal_length', 'Iris-virginica', 'Iris-versicolor']) \n",
    "y_train_MVreg_df=pd.DataFrame(y_train_MVreg, columns=['petal_length', 'petal_width']) \n",
    "y_test_MVreg_df=pd.DataFrame(y_test_MVreg, columns=['petal_length', 'petal_width']) "
   ]
  },
  {
   "cell_type": "code",
   "execution_count": 25,
   "metadata": {},
   "outputs": [
    {
     "data": {
      "text/html": [
       "<div>\n",
       "<style scoped>\n",
       "    .dataframe tbody tr th:only-of-type {\n",
       "        vertical-align: middle;\n",
       "    }\n",
       "\n",
       "    .dataframe tbody tr th {\n",
       "        vertical-align: top;\n",
       "    }\n",
       "\n",
       "    .dataframe thead th {\n",
       "        text-align: right;\n",
       "    }\n",
       "</style>\n",
       "<table border=\"1\" class=\"dataframe\">\n",
       "  <thead>\n",
       "    <tr style=\"text-align: right;\">\n",
       "      <th></th>\n",
       "      <th>sepal_length</th>\n",
       "      <th>Iris-virginica</th>\n",
       "      <th>Iris-versicolor</th>\n",
       "    </tr>\n",
       "  </thead>\n",
       "  <tbody>\n",
       "    <tr>\n",
       "      <th>0</th>\n",
       "      <td>5.7</td>\n",
       "      <td>0.0</td>\n",
       "      <td>1.0</td>\n",
       "    </tr>\n",
       "    <tr>\n",
       "      <th>1</th>\n",
       "      <td>7.6</td>\n",
       "      <td>0.0</td>\n",
       "      <td>0.0</td>\n",
       "    </tr>\n",
       "    <tr>\n",
       "      <th>2</th>\n",
       "      <td>5.6</td>\n",
       "      <td>0.0</td>\n",
       "      <td>1.0</td>\n",
       "    </tr>\n",
       "    <tr>\n",
       "      <th>3</th>\n",
       "      <td>5.1</td>\n",
       "      <td>1.0</td>\n",
       "      <td>0.0</td>\n",
       "    </tr>\n",
       "    <tr>\n",
       "      <th>4</th>\n",
       "      <td>7.7</td>\n",
       "      <td>0.0</td>\n",
       "      <td>0.0</td>\n",
       "    </tr>\n",
       "  </tbody>\n",
       "</table>\n",
       "</div>"
      ],
      "text/plain": [
       "   sepal_length  Iris-virginica  Iris-versicolor\n",
       "0           5.7             0.0              1.0\n",
       "1           7.6             0.0              0.0\n",
       "2           5.6             0.0              1.0\n",
       "3           5.1             1.0              0.0\n",
       "4           7.7             0.0              0.0"
      ]
     },
     "execution_count": 25,
     "metadata": {},
     "output_type": "execute_result"
    }
   ],
   "source": [
    "X_train_MVreg_df.head()"
   ]
  },
  {
   "cell_type": "code",
   "execution_count": 26,
   "metadata": {},
   "outputs": [
    {
     "data": {
      "text/html": [
       "<div>\n",
       "<style scoped>\n",
       "    .dataframe tbody tr th:only-of-type {\n",
       "        vertical-align: middle;\n",
       "    }\n",
       "\n",
       "    .dataframe tbody tr th {\n",
       "        vertical-align: top;\n",
       "    }\n",
       "\n",
       "    .dataframe thead th {\n",
       "        text-align: right;\n",
       "    }\n",
       "</style>\n",
       "<table border=\"1\" class=\"dataframe\">\n",
       "  <thead>\n",
       "    <tr style=\"text-align: right;\">\n",
       "      <th></th>\n",
       "      <th>petal_length</th>\n",
       "      <th>petal_width</th>\n",
       "    </tr>\n",
       "  </thead>\n",
       "  <tbody>\n",
       "    <tr>\n",
       "      <th>0</th>\n",
       "      <td>4.2</td>\n",
       "      <td>1.3</td>\n",
       "    </tr>\n",
       "    <tr>\n",
       "      <th>1</th>\n",
       "      <td>6.6</td>\n",
       "      <td>2.1</td>\n",
       "    </tr>\n",
       "    <tr>\n",
       "      <th>2</th>\n",
       "      <td>4.5</td>\n",
       "      <td>1.5</td>\n",
       "    </tr>\n",
       "    <tr>\n",
       "      <th>3</th>\n",
       "      <td>1.4</td>\n",
       "      <td>0.2</td>\n",
       "    </tr>\n",
       "    <tr>\n",
       "      <th>4</th>\n",
       "      <td>6.7</td>\n",
       "      <td>2.0</td>\n",
       "    </tr>\n",
       "  </tbody>\n",
       "</table>\n",
       "</div>"
      ],
      "text/plain": [
       "   petal_length  petal_width\n",
       "0           4.2          1.3\n",
       "1           6.6          2.1\n",
       "2           4.5          1.5\n",
       "3           1.4          0.2\n",
       "4           6.7          2.0"
      ]
     },
     "execution_count": 26,
     "metadata": {},
     "output_type": "execute_result"
    }
   ],
   "source": [
    "y_train_MVreg_df.head()"
   ]
  },
  {
   "cell_type": "code",
   "execution_count": 27,
   "metadata": {},
   "outputs": [],
   "source": [
    "# PASS DATA FROM PYTHON TO R\n",
    "r.assign(\"X_Train\", X_train_MVreg_df)\n",
    "r.assign(\"Y_Train\", y_train_MVreg_df) \n",
    "r.assign(\"X_Test\", X_test_MVreg_df)\n",
    "r.assign(\"Y_Test\", y_test_MVreg_df) "
   ]
  },
  {
   "cell_type": "code",
   "execution_count": 28,
   "metadata": {
    "scrolled": true
   },
   "outputs": [
    {
     "name": "stdout",
     "output_type": "stream",
     "text": [
      "try({summary(mvmod)})\r\n",
      "Response petal_length :\r\n",
      "\r\n",
      "Call:\r\n",
      "lm(formula = petal_length ~ sepal_length + Iris.virginica + Iris.versicolor, \r\n",
      "    data = X_Train)\r\n",
      "\r\n",
      "Residuals:\r\n",
      "     Min       1Q   Median       3Q      Max \r\n",
      "-0.81265 -0.16505  0.00125  0.14392  0.78310 \r\n",
      "\r\n",
      "Coefficients:\r\n",
      "                Estimate Std. Error t value Pr(>|t|)    \r\n",
      "(Intercept)      1.27023    0.35557   3.572 0.000555 ***\r\n",
      "sepal_length     0.65221    0.05375  12.135  < 2e-16 ***\r\n",
      "Iris.virginica  -3.04039    0.11088 -27.420  < 2e-16 ***\r\n",
      "Iris.versicolor -0.86658    0.07828 -11.070  < 2e-16 ***\r\n",
      "---\r\n",
      "Signif. codes:  0 '***' 0.001 '**' 0.01 '*' 0.05 '.' 0.1 ' ' 1\r\n",
      "\r\n",
      "Residual standard error: 0.2849 on 96 degrees of freedom\r\n",
      "Multiple R-squared:  0.9738,\tAdjusted R-squared:  0.973 \r\n",
      "F-statistic:  1191 on 3 and 96 DF,  p-value: < 2.2e-16\r\n",
      "\r\n",
      "\r\n",
      "Response petal_width :\r\n",
      "\r\n",
      "Call:\r\n",
      "lm(formula = petal_width ~ sepal_length + Iris.virginica + Iris.versicolor, \r\n",
      "    data = X_Train)\r\n",
      "\r\n",
      "Residuals:\r\n",
      "     Min       1Q   Median       3Q      Max \r\n",
      "-0.55692 -0.11040 -0.02291  0.09976  0.51886 \r\n",
      "\r\n",
      "Coefficients:\r\n",
      "                Estimate Std. Error t value Pr(>|t|)    \r\n",
      "(Intercept)      1.21825    0.25561   4.766 6.67e-06 ***\r\n",
      "sepal_length     0.12109    0.03864   3.134  0.00229 ** \r\n",
      "Iris.virginica  -1.57426    0.07971 -19.750  < 2e-16 ***\r\n",
      "Iris.versicolor -0.61825    0.05628 -10.986  < 2e-16 ***\r\n",
      "---\r\n",
      "Signif. codes:  0 '***' 0.001 '**' 0.01 '*' 0.05 '.' 0.1 ' ' 1\r\n",
      "\r\n",
      "Residual standard error: 0.2048 on 96 degrees of freedom\r\n",
      "Multiple R-squared:  0.9274,\tAdjusted R-squared:  0.9251 \r\n",
      "F-statistic: 408.9 on 3 and 96 DF,  p-value: < 2.2e-16\r\n",
      "\r\n",
      "\r\n",
      "\n"
     ]
    }
   ],
   "source": [
    "r(\"Y_Train <- as.matrix(Y_Train)\")\n",
    "r(\"mvmod <- lm(Y_Train ~ sepal_length + Iris.virginica + Iris.versicolor, data=X_Train)\")\n",
    "print(r(\"summary(mvmod)\"))"
   ]
  },
  {
   "cell_type": "code",
   "execution_count": 29,
   "metadata": {},
   "outputs": [
    {
     "name": "stdout",
     "output_type": "stream",
     "text": [
      "try({mvmod})\r\n",
      "\r\n",
      "Call:\r\n",
      "lm(formula = Y_Train ~ sepal_length + Iris.virginica + Iris.versicolor, \r\n",
      "    data = X_Train)\r\n",
      "\r\n",
      "Coefficients:\r\n",
      "                 petal_length  petal_width\r\n",
      "(Intercept)       1.2702        1.2183    \r\n",
      "sepal_length      0.6522        0.1211    \r\n",
      "Iris.virginica   -3.0404       -1.5743    \r\n",
      "Iris.versicolor  -0.8666       -0.6182    \r\n",
      "\r\n",
      "\n"
     ]
    }
   ],
   "source": [
    "print(r(\"mvmod\"))"
   ]
  },
  {
   "cell_type": "code",
   "execution_count": 30,
   "metadata": {},
   "outputs": [
    {
     "name": "stdout",
     "output_type": "stream",
     "text": [
      "try({library(car)})\r\n",
      "Loading required package: carData\r\n",
      "\n",
      "try({Anova(mvmod)})\r\n",
      "\r\n",
      "Type II MANOVA Tests: Pillai test statistic\r\n",
      "                Df test stat approx F num Df den Df    Pr(>F)    \r\n",
      "sepal_length     1   0.61101    74.61      2     95 < 2.2e-16 ***\r\n",
      "Iris.virginica   1   0.89783   417.40      2     95 < 2.2e-16 ***\r\n",
      "Iris.versicolor  1   0.64406    85.95      2     95 < 2.2e-16 ***\r\n",
      "---\r\n",
      "Signif. codes:  0 '***' 0.001 '**' 0.01 '*' 0.05 '.' 0.1 ' ' 1\r\n",
      "\n"
     ]
    }
   ],
   "source": [
    "print(r(\"library(car)\"))\n",
    "print(r(\"Anova(mvmod)\"))"
   ]
  },
  {
   "cell_type": "code",
   "execution_count": 31,
   "metadata": {},
   "outputs": [
    {
     "data": {
      "text/plain": [
       "'try({ypred=predict(mvmod, X_Test) })\\r\\n'"
      ]
     },
     "execution_count": 31,
     "metadata": {},
     "output_type": "execute_result"
    }
   ],
   "source": [
    "#r(\"Y_Test <- as.matrix(Y_Test)\")\n",
    "r(\"ypred=predict(mvmod, X_Test) \")"
   ]
  },
  {
   "cell_type": "code",
   "execution_count": 35,
   "metadata": {},
   "outputs": [
    {
     "name": "stdout",
     "output_type": "stream",
     "text": [
      "try({ypred})\r\n",
      "   petal_length petal_width\r\n",
      "0      4.382121   1.3386715\r\n",
      "1      1.947431   0.3342228\r\n",
      "2      6.292240   2.1506648\r\n",
      "3      4.316900   1.3265623\r\n",
      "4      4.838667   1.4234362\r\n",
      "5      1.751769   0.2978951\r\n",
      "6      4.056016   1.2781253\r\n",
      "7      5.770473   2.0537909\r\n",
      "8      4.447342   1.3507808\r\n",
      "9      4.186458   1.3023438\r\n",
      "10     5.509589   2.0053539\r\n",
      "11     1.360443   0.2252396\r\n",
      "12     1.816989   0.3100043\r\n",
      "13     1.425664   0.2373489\r\n",
      "14     1.556106   0.2615674\r\n",
      "15     4.512562   1.3628900\r\n",
      "16     5.509589   2.0053539\r\n",
      "17     4.056016   1.2781253\r\n",
      "18     4.121237   1.2902346\r\n",
      "19     5.444368   1.9932447\r\n",
      "20     1.295222   0.2131304\r\n",
      "21     5.248705   1.9569170\r\n",
      "22     1.490885   0.2494581\r\n",
      "23     5.444368   1.9932447\r\n",
      "24     6.422682   2.1748833\r\n",
      "25     5.640031   2.0295724\r\n",
      "26     5.640031   2.0295724\r\n",
      "27     5.705252   2.0416817\r\n",
      "28     1.360443   0.2252396\r\n",
      "29     1.360443   0.2252396\r\n",
      "30     1.230001   0.2010212\r\n",
      "31     1.947431   0.3342228\r\n",
      "32     4.773446   1.4113270\r\n",
      "33     1.360443   0.2252396\r\n",
      "34     1.099559   0.1768027\r\n",
      "35     5.379147   1.9811354\r\n",
      "36     4.577783   1.3749993\r\n",
      "37     1.621327   0.2736766\r\n",
      "38     1.490885   0.2494581\r\n",
      "39     1.621327   0.2736766\r\n",
      "40     5.053042   1.9205892\r\n",
      "41     4.316900   1.3265623\r\n",
      "42     4.773446   1.4113270\r\n",
      "43     1.751769   0.2978951\r\n",
      "44     1.751769   0.2978951\r\n",
      "45     3.990795   1.2660161\r\n",
      "46     5.379147   1.9811354\r\n",
      "47     5.444368   1.9932447\r\n",
      "48     4.708225   1.3992177\r\n",
      "49     5.966135   2.0901186\r\n",
      "\n"
     ]
    }
   ],
   "source": [
    "print(r('ypred'))"
   ]
  },
  {
   "cell_type": "code",
   "execution_count": 37,
   "metadata": {},
   "outputs": [
    {
     "data": {
      "text/plain": [
       "'try({mean((Y_Test - ypred)^2)})\\r\\n[1] NA\\r\\nWarning message:\\r\\nIn mean.default((Y_Test - ypred)^2) :\\r\\n  argument is not numeric or logical: returning NA\\r\\n'"
      ]
     },
     "execution_count": 37,
     "metadata": {},
     "output_type": "execute_result"
    }
   ],
   "source": [
    "r(\"mean((Y_Test - ypred)^2)\")\n"
   ]
  },
  {
   "cell_type": "code",
   "execution_count": null,
   "metadata": {},
   "outputs": [],
   "source": []
  }
 ],
 "metadata": {
  "kernelspec": {
   "display_name": "Python 3",
   "language": "python",
   "name": "python3"
  },
  "language_info": {
   "codemirror_mode": {
    "name": "ipython",
    "version": 3
   },
   "file_extension": ".py",
   "mimetype": "text/x-python",
   "name": "python",
   "nbconvert_exporter": "python",
   "pygments_lexer": "ipython3",
   "version": "3.7.4"
  }
 },
 "nbformat": 4,
 "nbformat_minor": 2
}
